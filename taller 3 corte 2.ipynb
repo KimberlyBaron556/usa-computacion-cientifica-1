{
 "cells": [
  {
   "cell_type": "code",
   "execution_count": 1,
   "id": "3259d6c3-2fe2-4ae6-b410-3afe672611fb",
   "metadata": {},
   "outputs": [],
   "source": [
    "class productos:\n",
    "\n",
    "  def __init__(self, nombre, precio, categoria):\n",
    "    self.nombre = nombre\n",
    "    self.precio = precio\n",
    "    self.categoria = categoria \n",
    "\n",
    "  def __str__(self):\n",
    "    return f\"{self.nombre} - {self.precio} - {self.categoria}\"\n",
    "\n",
    "  def __repr__(self): \n",
    "    return f\"{self.nombre} - {self.precio} - {self.categoria}\"\n",
    "  \n",
    "  def __eq__(self, other):\n",
    "    if self.nombre == other.nombre:\n",
    "            if self.categoria == other.categoria:\n",
    "                return True\n",
    "            else:\n",
    "                return False\n",
    "\n",
    "  def __lt__(self, other):\n",
    "    if self.precio < other.precio:\n",
    "      return True\n",
    "    else:\n",
    "      return False\n",
    "\n",
    "  def __gt__(self, other):\n",
    "    if self.precio > other.precio:\n",
    "      return True\n",
    "    else:\n",
    "      return False\n",
    "\n",
    "    \n",
    "\n",
    "bebidas = \"bebidas\"\n",
    "comidas = \"comidas\"\n",
    "paquetes = \"paquetes\"\n",
    "\n",
    "s1 = productos(\"coca-cola\", 3500, bebidas)\n",
    "s2 = productos(\"fanta\", 2500, bebidas)\n",
    "s3 = productos(\"sprite\", 3000, bebidas)\n",
    "s4 = productos(\"empanada\", 2500, comidas)\n",
    "s5 = productos(\"sandwich\", 2500, comidas)\n",
    "s6 = productos(\"pastel de pollo\", 3500, comidas)\n",
    "s7 = productos(\"detodito\", 3500, paquetes)\n",
    "s8 = productos(\"papa de pollo\", 2800, paquetes)\n",
    "s9 = productos(\"tostacos\", 1800, paquetes)\n",
    "s10 = productos(\"pastel de pollo\", 8000, comidas)"
   ]
  },
  {
   "cell_type": "code",
   "execution_count": 3,
   "id": "7831e5a1-5140-4195-b83c-62db9a328cc5",
   "metadata": {},
   "outputs": [
    {
     "name": "stdout",
     "output_type": "stream",
     "text": [
      "None\n",
      "False\n",
      "False\n"
     ]
    }
   ],
   "source": [
    "print(s1 == s2)\n",
    "print(s3 < s4)\n",
    "print(s5 > s6)"
   ]
  },
  {
   "cell_type": "code",
   "execution_count": 4,
   "id": "63b798fd-8fe5-4de6-9189-a6225f77c8c0",
   "metadata": {},
   "outputs": [
    {
     "data": {
      "text/plain": [
       "[coca-cola - 3500 - bebidas,\n",
       " empanada - 2500 - comidas,\n",
       " detodito - 3500 - paquetes,\n",
       " fanta - 2500 - bebidas,\n",
       " sandwich - 2500 - comidas,\n",
       " papa de pollo - 2800 - paquetes]"
      ]
     },
     "execution_count": 4,
     "metadata": {},
     "output_type": "execute_result"
    }
   ],
   "source": [
    "lista_productos = []\n",
    "class Tienda:\n",
    "  def __init__(self, tienda, lista_productos):\n",
    "    self.tienda = tienda \n",
    "    self.lista_productos = lista_productos\n",
    "\n",
    "  def __str__(self):\n",
    "    return f\"{self.tienda} - {self.lista_productos}\" \n",
    "\n",
    "  def __repr__(self):\n",
    "    return f\"{self.tienda} - {self.lista_productos}\"\n",
    "\n",
    "  def agregar_producto(self, producto):\n",
    "    self.lista_productos.append(producto)\n",
    "    return self.lista_productos\n",
    "\n",
    "  def eliminar_producto(self, nombre):\n",
    "    for producto in self.lista_productos:\n",
    "      if producto.nombre == nombre:\n",
    "        self.lista_productos.remove(producto)\n",
    "        return self.lista_productos\n",
    "    return None\n",
    "\n",
    "  def buscar_producto(self, nombre):\n",
    "    for producto in self.lista_productos:\n",
    "      if producto.nombre == nombre:\n",
    "        return producto\n",
    "    return None\n",
    "\n",
    "  def producto_mas_caro(self):\n",
    "    producto_mas_caro = self.lista_productos[0]\n",
    "    for producto in self.lista_productos:\n",
    "      if producto > producto_mas_caro:\n",
    "        producto_mas_caro = producto\n",
    "    return producto_mas_caro\n",
    "\n",
    "  def producto_mas_barato(self):\n",
    "    producto_mas_barato = self.lista_productos[0] \n",
    "\n",
    "\n",
    "  def mostrar_productos_por_categoria(self, categoria):\n",
    "    for producto in self.lista_productos:\n",
    "      if producto.categoria == categoria:\n",
    "        print(producto)\n",
    "\n",
    "  def mostrar_productos_por_precio(self, precio):\n",
    "    for producto in self.lista_productos:\n",
    "      if producto.precio == precio:\n",
    "        print(producto)\n",
    "\n",
    "sofia = Tienda(\"pepe\", lista_productos)\n",
    "sofia.agregar_producto(s1)\n",
    "sofia.agregar_producto(s4)\n",
    "sofia.agregar_producto(s7)\n",
    "camilo = Tienda(\"jua\", lista_productos)\n",
    "camilo.agregar_producto(s2)\n",
    "camilo.agregar_producto(s5)\n",
    "camilo.agregar_producto(s8)"
   ]
  },
  {
   "cell_type": "code",
   "execution_count": 5,
   "id": "89781206-2480-4491-acdb-9dada279f8aa",
   "metadata": {},
   "outputs": [
    {
     "name": "stdout",
     "output_type": "stream",
     "text": [
      "None\n",
      "None\n",
      "coca-cola - 3500 - bebidas\n",
      "coca-cola - 3500 - bebidas\n",
      "None\n",
      "None\n",
      "empanada - 2500 - comidas\n",
      "sandwich - 2500 - comidas\n",
      "empanada - 2500 - comidas\n",
      "sandwich - 2500 - comidas\n",
      "empanada - 2500 - comidas\n",
      "fanta - 2500 - bebidas\n",
      "sandwich - 2500 - comidas\n",
      "empanada - 2500 - comidas\n",
      "fanta - 2500 - bebidas\n",
      "sandwich - 2500 - comidas\n"
     ]
    }
   ],
   "source": [
    "print(sofia.buscar_producto(\"pastel de pollo\"))\n",
    "print(camilo.buscar_producto(\"pastel de pollo\"))\n",
    "print(sofia.producto_mas_caro())\n",
    "print(camilo.producto_mas_caro())\n",
    "print(sofia.producto_mas_barato())\n",
    "print(camilo.producto_mas_barato())\n",
    "sofia.mostrar_productos_por_categoria(\"comidas\")\n",
    "camilo.mostrar_productos_por_categoria(\"comidas\")\n",
    "sofia.mostrar_productos_por_precio(2500)\n",
    "camilo.mostrar_productos_por_precio(2500)"
   ]
  },
  {
   "cell_type": "code",
   "execution_count": null,
   "id": "c0943fd1-0df0-4372-99a1-41cae5c3247f",
   "metadata": {},
   "outputs": [],
   "source": []
  }
 ],
 "metadata": {
  "kernelspec": {
   "display_name": "Python [conda env:base] *",
   "language": "python",
   "name": "conda-base-py"
  },
  "language_info": {
   "codemirror_mode": {
    "name": "ipython",
    "version": 3
   },
   "file_extension": ".py",
   "mimetype": "text/x-python",
   "name": "python",
   "nbconvert_exporter": "python",
   "pygments_lexer": "ipython3",
   "version": "3.12.7"
  }
 },
 "nbformat": 4,
 "nbformat_minor": 5
}
